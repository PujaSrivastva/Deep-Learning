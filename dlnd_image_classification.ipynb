{
 "cells": [
  {
   "cell_type": "markdown",
   "metadata": {
    "collapsed": true
   },
   "source": [
    "# Image Classification\n",
    "In this project, you'll classify images from the [CIFAR-10 dataset](https://www.cs.toronto.edu/~kriz/cifar.html).  The dataset consists of airplanes, dogs, cats, and other objects. You'll preprocess the images, then train a convolutional neural network on all the samples. The images need to be normalized and the labels need to be one-hot encoded.  You'll get to apply what you learned and build a convolutional, max pooling, dropout, and fully connected layers.  At the end, you'll get to see your neural network's predictions on the sample images.\n",
    "## Get the Data\n",
    "Run the following cell to download the [CIFAR-10 dataset for python](https://www.cs.toronto.edu/~kriz/cifar-10-python.tar.gz)."
   ]
  },
  {
   "cell_type": "code",
   "execution_count": 1,
   "metadata": {
    "collapsed": false
   },
   "outputs": [
    {
     "name": "stdout",
     "output_type": "stream",
     "text": [
      "Requirement already satisfied: tqdm in c:\\users\\amit\\anaconda3\\envs\\tensorflow\\lib\\site-packages\n"
     ]
    }
   ],
   "source": [
    "!pip install tqdm"
   ]
  },
  {
   "cell_type": "code",
   "execution_count": 2,
   "metadata": {
    "collapsed": false
   },
   "outputs": [
    {
     "name": "stdout",
     "output_type": "stream",
     "text": [
      "All files found!\n"
     ]
    }
   ],
   "source": [
    "\"\"\"\n",
    "DON'T MODIFY ANYTHING IN THIS CELL THAT IS BELOW THIS LINE\n",
    "\"\"\"\n",
    "from urllib.request import urlretrieve\n",
    "from os.path import isfile, isdir\n",
    "from tqdm import tqdm\n",
    "import problem_unittests as tests\n",
    "import tarfile\n",
    "\n",
    "cifar10_dataset_folder_path = 'cifar-10-batches-py'\n",
    "\n",
    "class DLProgress(tqdm):\n",
    "    last_block = 0\n",
    "\n",
    "    def hook(self, block_num=1, block_size=1, total_size=None):\n",
    "        self.total = total_size\n",
    "        self.update((block_num - self.last_block) * block_size)\n",
    "        self.last_block = block_num\n",
    "\n",
    "if not isfile('cifar-10-python.tar.gz'):\n",
    "    with DLProgress(unit='B', unit_scale=True, miniters=1, desc='CIFAR-10 Dataset') as pbar:\n",
    "        urlretrieve(\n",
    "            'https://www.cs.toronto.edu/~kriz/cifar-10-python.tar.gz',\n",
    "            'cifar-10-python.tar.gz',\n",
    "            pbar.hook)\n",
    "\n",
    "if not isdir(cifar10_dataset_folder_path):\n",
    "    with tarfile.open('cifar-10-python.tar.gz') as tar:\n",
    "        tar.extractall()\n",
    "        tar.close()\n",
    "\n",
    "\n",
    "tests.test_folder_path(cifar10_dataset_folder_path)"
   ]
  },
  {
   "cell_type": "markdown",
   "metadata": {},
   "source": [
    "## Explore the Data\n",
    "The dataset is broken into batches to prevent your machine from running out of memory.  The CIFAR-10 dataset consists of 5 batches, named `data_batch_1`, `data_batch_2`, etc.. Each batch contains the labels and images that are one of the following:\n",
    "* airplane\n",
    "* automobile\n",
    "* bird\n",
    "* cat\n",
    "* deer\n",
    "* dog\n",
    "* frog\n",
    "* horse\n",
    "* ship\n",
    "* truck\n",
    "\n",
    "Understanding a dataset is part of making predictions on the data.  Play around with the code cell below by changing the `batch_id` and `sample_id`. The `batch_id` is the id for a batch (1-5). The `sample_id` is the id for a image and label pair in the batch.\n",
    "\n",
    "Ask yourself \"What are all possible labels?\", \"What is the range of values for the image data?\", \"Are the labels in order or random?\".  Answers to questions like these will help you preprocess the data and end up with better predictions."
   ]
  },
  {
   "cell_type": "code",
   "execution_count": 3,
   "metadata": {
    "collapsed": false
   },
   "outputs": [
    {
     "name": "stdout",
     "output_type": "stream",
     "text": [
      "\n",
      "Stats of batch 1:\n",
      "Samples: 10000\n",
      "Label Counts: {0: 1005, 1: 974, 2: 1032, 3: 1016, 4: 999, 5: 937, 6: 1030, 7: 1001, 8: 1025, 9: 981}\n",
      "First 20 Labels: [6, 9, 9, 4, 1, 1, 2, 7, 8, 3, 4, 7, 7, 2, 9, 9, 9, 3, 2, 6]\n",
      "\n",
      "Example of Image 5:\n",
      "Image - Min Value: 0 Max Value: 252\n",
      "Image - Shape: (32, 32, 3)\n",
      "Label - Label Id: 1 Name: automobile\n"
     ]
    },
    {
     "data": {
      "image/png": "[encoded data removed]",
      "text/plain": [
       "<matplotlib.figure.Figure at 0x1f97c7842e8>"
      ]
     },
     "metadata": {
      "image/png": {
       "height": 250,
       "width": 253
      }
     },
     "output_type": "display_data"
    }
   ],
   "source": [
    "%matplotlib inline\n",
    "%config InlineBackend.figure_format = 'retina'\n",
    "\n",
    "import helper\n",
    "import numpy as np\n",
    "\n",
    "# Explore the dataset\n",
    "batch_id = 1\n",
    "sample_id = 5\n",
    "helper.display_stats(cifar10_dataset_folder_path, batch_id, sample_id)"
   ]
  },
  {
   "cell_type": "markdown",
   "metadata": {},
   "source": [
    "## Implement Preprocess Functions\n",
    "### Normalize\n",
    "In the cell below, implement the `normalize` function to take in image data, `x`, and return it as a normalized Numpy array. The values should be in the range of 0 to 1, inclusive.  The return object should be the same shape as `x`."
   ]
  },
  {
   "cell_type": "code",
   "execution_count": 4,
   "metadata": {
    "collapsed": true
   },
   "outputs": [],
   "source": [
    "import tensorflow as tf"
   ]
  },
  {
   "cell_type": "code",
   "execution_count": 5,
   "metadata": {
    "collapsed": true
   },
   "outputs": [],
   "source": [
    "import numpy as np"
   ]
  },
  {
   "cell_type": "code",
   "execution_count": 6,
   "metadata": {
    "collapsed": false
   },
   "outputs": [
    {
     "name": "stdout",
     "output_type": "stream",
     "text": [
      "Tests Passed\n"
     ]
    }
   ],
   "source": [
    "def normalize(x):\n",
    "    \"\"\"\n",
    "    Normalize a list of sample image data in the range of 0 to 1\n",
    "    : x: List of image data.  The image shape is (32, 32, 3)\n",
    "    : return: Numpy array of normalize data\n",
    "    \"\"\"\n",
    "    # TODO: Implement Function\n",
    "    #normal = np.ndarray(x.shape, dtype=float)    #covert array to float\n",
    "    #normal[:] = x\n",
    "    #for a in np.nditer (normal, op_flags=['readwrite']):\n",
    "        #a /= a/255.0\n",
    "    normal = np.array(x, dtype= float)\n",
    "    normal = normal/255\n",
    "    return normal\n",
    "\n",
    "\"\"\"\n",
    "DON'T MODIFY ANYTHING IN THIS CELL THAT IS BELOW THIS LINE\n",
    "\"\"\"\n",
    "tests.test_normalize(normalize)"
   ]
  },
  {
   "cell_type": "markdown",
   "metadata": {},
   "source": [
    "### One-hot encode\n",
    "Just like the previous code cell, you'll be implementing a function for preprocessing.  This time, you'll implement the `one_hot_encode` function. The input, `x`, are a list of labels.  Implement the function to return the list of labels as One-Hot encoded Numpy array.  The possible values for labels are 0 to 9. The one-hot encoding function should return the same encoding for each value between each call to `one_hot_encode`.  Make sure to save the map of encodings outside the function.\n",
    "\n",
    "Hint: Don't reinvent the wheel."
   ]
  },
  {
   "cell_type": "code",
   "execution_count": 7,
   "metadata": {
    "collapsed": false
   },
   "outputs": [
    {
     "name": "stdout",
     "output_type": "stream",
     "text": [
      "[0, 1, 2, 3, 4, 5, 6, 7, 8, 9]\n",
      "[0, 1, 2, 3, 4, 5, 6, 7, 8, 9]\n",
      "Tests Passed\n"
     ]
    }
   ],
   "source": [
    "def one_hot_encode(x):\n",
    "    \"\"\"\n",
    "    One hot encode a list of sample labels. Return a one-hot encoded vector for each label.\n",
    "    : x: List of sample Labels\n",
    "    : return: Numpy array of one-hot encoded labels\n",
    "    \"\"\"\n",
    "    # TODO: Implement Function\n",
    "    from sklearn import preprocessing\n",
    "    from sklearn.preprocessing import LabelBinarizer\n",
    "    lb = preprocessing.LabelBinarizer()\n",
    "    lb.fit(x)\n",
    "    lb.classes_ = [0,1,2,3,4,5,6,7,8,9]\n",
    "    print (lb.classes_)\n",
    "    return lb.transform(x)\n",
    "   \n",
    "\n",
    "\n",
    "\"\"\"\n",
    "DON'T MODIFY ANYTHING IN THIS CELL THAT IS BELOW THIS LINE\n",
    "\"\"\"\n",
    "tests.test_one_hot_encode(one_hot_encode)"
   ]
  },
  {
   "cell_type": "markdown",
   "metadata": {},
   "source": [
    "### Randomize Data\n",
    "As you saw from exploring the data above, the order of the samples are randomized.  It doesn't hurt to randomize it again, but you don't need to for this dataset."
   ]
  },
  {
   "cell_type": "markdown",
   "metadata": {},
   "source": [
    "## Preprocess all the data and save it\n",
    "Running the code cell below will preprocess all the CIFAR-10 data and save it to file. The code below also uses 10% of the training data for validation."
   ]
  },
  {
   "cell_type": "code",
   "execution_count": 8,
   "metadata": {
    "collapsed": false
   },
   "outputs": [
    {
     "name": "stdout",
     "output_type": "stream",
     "text": [
      "[0, 1, 2, 3, 4, 5, 6, 7, 8, 9]\n",
      "[0, 1, 2, 3, 4, 5, 6, 7, 8, 9]\n",
      "[0, 1, 2, 3, 4, 5, 6, 7, 8, 9]\n",
      "[0, 1, 2, 3, 4, 5, 6, 7, 8, 9]\n",
      "[0, 1, 2, 3, 4, 5, 6, 7, 8, 9]\n",
      "[0, 1, 2, 3, 4, 5, 6, 7, 8, 9]\n",
      "[0, 1, 2, 3, 4, 5, 6, 7, 8, 9]\n"
     ]
    }
   ],
   "source": [
    "\"\"\"\n",
    "DON'T MODIFY ANYTHING IN THIS CELL\n",
    "\"\"\"\n",
    "# Preprocess Training, Validation, and Testing Data\n",
    "helper.preprocess_and_save_data(cifar10_dataset_folder_path, normalize, one_hot_encode)"
   ]
  },
  {
   "cell_type": "markdown",
   "metadata": {},
   "source": [
    "# Check Point\n",
    "This is your first checkpoint.  If you ever decide to come back to this notebook or have to restart the notebook, you can start from here.  The preprocessed data has been saved to disk."
   ]
  },
  {
   "cell_type": "code",
   "execution_count": 9,
   "metadata": {
    "collapsed": true
   },
   "outputs": [],
   "source": [
    "\"\"\"\n",
    "DON'T MODIFY ANYTHING IN THIS CELL\n",
    "\"\"\"\n",
    "import pickle\n",
    "import problem_unittests as tests\n",
    "import helper\n",
    "\n",
    "# Load the Preprocessed Validation data\n",
    "valid_features, valid_labels = pickle.load(open('preprocess_validation.p', mode='rb'))"
   ]
  },
  {
   "cell_type": "markdown",
   "metadata": {},
   "source": [
    "## Build the network\n",
    "For the neural network, you'll build each layer into a function.  Most of the code you've seen has been outside of functions. To test your code more thoroughly, we require that you put each layer in a function.  This allows us to give you better feedback and test for simple mistakes using our unittests before you submit your project.\n",
    "\n",
    ">**Note:** If you're finding it hard to dedicate enough time for this course each week, we've provided a small shortcut to this part of the project. In the next couple of problems, you'll have the option to use classes from the [TensorFlow Layers](https://www.tensorflow.org/api_docs/python/tf/layers) or [TensorFlow Layers (contrib)](https://www.tensorflow.org/api_guides/python/contrib.layers) packages to build each layer, except the layers you build in the \"Convolutional and Max Pooling Layer\" section.  TF Layers is similar to Keras's and TFLearn's abstraction to layers, so it's easy to pickup.\n",
    "\n",
    ">However, if you would like to get the most out of this course, try to solve all the problems _without_ using anything from the TF Layers packages. You **can** still use classes from other packages that happen to have the same name as ones you find in TF Layers! For example, instead of using the TF Layers version of the `conv2d` class, [tf.layers.conv2d](https://www.tensorflow.org/api_docs/python/tf/layers/conv2d), you would want to use the TF Neural Network version of `conv2d`, [tf.nn.conv2d](https://www.tensorflow.org/api_docs/python/tf/nn/conv2d). \n",
    "\n",
    "Let's begin!\n",
    "\n",
    "### Input\n",
    "The neural network needs to read the image data, one-hot encoded labels, and dropout keep probability. Implement the following functions\n",
    "* Implement `neural_net_image_input`\n",
    " * Return a [TF Placeholder](https://www.tensorflow.org/api_docs/python/tf/placeholder)\n",
    " * Set the shape using `image_shape` with batch size set to `None`.\n",
    " * Name the TensorFlow placeholder \"x\" using the TensorFlow `name` parameter in the [TF Placeholder](https://www.tensorflow.org/api_docs/python/tf/placeholder).\n",
    "* Implement `neural_net_label_input`\n",
    " * Return a [TF Placeholder](https://www.tensorflow.org/api_docs/python/tf/placeholder)\n",
    " * Set the shape using `n_classes` with batch size set to `None`.\n",
    " * Name the TensorFlow placeholder \"y\" using the TensorFlow `name` parameter in the [TF Placeholder](https://www.tensorflow.org/api_docs/python/tf/placeholder).\n",
    "* Implement `neural_net_keep_prob_input`\n",
    " * Return a [TF Placeholder](https://www.tensorflow.org/api_docs/python/tf/placeholder) for dropout keep probability.\n",
    " * Name the TensorFlow placeholder \"keep_prob\" using the TensorFlow `name` parameter in the [TF Placeholder](https://www.tensorflow.org/api_docs/python/tf/placeholder).\n",
    "\n",
    "These names will be used at the end of the project to load your saved model.\n",
    "\n",
    "Note: `None` for shapes in TensorFlow allow for a dynamic size."
   ]
  },
  {
   "cell_type": "code",
   "execution_count": 10,
   "metadata": {
    "collapsed": false
   },
   "outputs": [
    {
     "name": "stdout",
     "output_type": "stream",
     "text": [
      "Image Input Tests Passed.\n",
      "Label Input Tests Passed.\n",
      "Keep Prob Tests Passed.\n"
     ]
    }
   ],
   "source": [
    "import tensorflow as tf\n",
    "\n",
    "def neural_net_image_input(image_shape):\n",
    "    \"\"\"\n",
    "    Return a Tensor for a bach of image input\n",
    "    : image_shape: Shape of the images\n",
    "    : return: Tensor for image input.\n",
    "    \"\"\"\n",
    "    # TODO: Implement Function\n",
    "    return tf.placeholder(tf.float32, shape = (None,*image_shape), name = 'x')\n",
    "\n",
    "\n",
    "def neural_net_label_input(n_classes):\n",
    "    \"\"\"\n",
    "    Return a Tensor for a batch of label input\n",
    "    : n_classes: Number of classes\n",
    "    : return: Tensor for label input.\n",
    "    \"\"\"\n",
    "    # TODO: Implement Function\n",
    "    return tf.placeholder(tf.float32, [None, n_classes] , name = 'y')\n",
    "\n",
    "\n",
    "def neural_net_keep_prob_input():\n",
    "    \"\"\"\n",
    "    Return a Tensor for keep probability\n",
    "    : return: Tensor for keep probability.\n",
    "    \"\"\"\n",
    "    # TODO: Implement Function\n",
    "    return tf.placeholder(tf.float32, shape = None, name = 'keep_prob')\n",
    "\n",
    "\n",
    "\"\"\"\n",
    "DON'T MODIFY ANYTHING IN THIS CELL THAT IS BELOW THIS LINE\n",
    "\"\"\"\n",
    "tf.reset_default_graph()\n",
    "tests.test_nn_image_inputs(neural_net_image_input)\n",
    "tests.test_nn_label_inputs(neural_net_label_input)\n",
    "tests.test_nn_keep_prob_inputs(neural_net_keep_prob_input)"
   ]
  },
  {
   "cell_type": "markdown",
   "metadata": {},
   "source": [
    "### Convolution and Max Pooling Layer\n",
    "Convolution layers have a lot of success with images. For this code cell, you should implement the function `conv2d_maxpool` to apply convolution then max pooling:\n",
    "* Create the weight and bias using `conv_ksize`, `conv_num_outputs` and the shape of `x_tensor`.\n",
    "* Apply a convolution to `x_tensor` using weight and `conv_strides`.\n",
    " * We recommend you use same padding, but you're welcome to use any padding.\n",
    "* Add bias\n",
    "* Add a nonlinear activation to the convolution.\n",
    "* Apply Max Pooling using `pool_ksize` and `pool_strides`.\n",
    " * We recommend you use same padding, but you're welcome to use any padding.\n",
    "\n",
    "**Note:** You **can't** use [TensorFlow Layers](https://www.tensorflow.org/api_docs/python/tf/layers) or [TensorFlow Layers (contrib)](https://www.tensorflow.org/api_guides/python/contrib.layers) for **this** layer, but you can still use TensorFlow's [Neural Network](https://www.tensorflow.org/api_docs/python/tf/nn) package. You may still use the shortcut option for all the **other** layers."
   ]
  },
  {
   "cell_type": "code",
   "execution_count": 11,
   "metadata": {
    "collapsed": true
   },
   "outputs": [],
   "source": [
    "import tensorflow as tf"
   ]
  },
  {
   "cell_type": "code",
   "execution_count": 12,
   "metadata": {
    "collapsed": false
   },
   "outputs": [
    {
     "name": "stdout",
     "output_type": "stream",
     "text": [
      "Tests Passed\n"
     ]
    }
   ],
   "source": [
    "def conv2d_maxpool(x_tensor, conv_num_outputs, conv_ksize, conv_strides, pool_ksize, pool_strides):\n",
    "    \"\"\"\n",
    "    Apply convolution then max pooling to x_tensor\n",
    "    :param x_tensor: TensorFlow Tensor\n",
    "    :param conv_num_outputs: Number of outputs for the convolutional layer\n",
    "    :param conv_ksize: kernal size 2-D Tuple for the convolutional layer\n",
    "    :param conv_strides: Stride 2-D Tuple for convolution\n",
    "    :param pool_ksize: kernal size 2-D Tuple for pool\n",
    "    :param pool_strides: Stride 2-D Tuple for pool\n",
    "    : return: A tensor that represents convolution and max pooling of x_tensor\n",
    "    \"\"\"\n",
    "    # TODO: Implement Function\n",
    "    \n",
    "    x_shape = x_tensor.get_shape()[3].value\n",
    "    weight = tf.Variable(tf.truncated_normal([conv_ksize[0], conv_ksize[1], x_shape, conv_num_outputs], \n",
    "                                             mean = 0.0, stddev = 0.1, seed=42 ))\n",
    "    bias = tf.Variable(tf.zeros([conv_num_outputs]))\n",
    "    conv_layer = tf.nn.conv2d(x_tensor, weight, [1,conv_strides[0], conv_strides[1],1], 'SAME')\n",
    "    conv_layer = tf.nn.bias_add(conv_layer, bias)\n",
    "    conv_layer = tf.nn.relu(conv_layer)\n",
    "    conv_layer_maxpool = tf.nn.max_pool(conv_layer, [1,pool_ksize[0],pool_ksize[1],1], \n",
    "                                        [1,pool_strides[0],pool_strides[1],1], 'SAME')\n",
    "    return conv_layer_maxpool\n",
    "\n",
    "\n",
    "\"\"\"\n",
    "DON'T MODIFY ANYTHING IN THIS CELL THAT IS BELOW THIS LINE\n",
    "\"\"\"\n",
    "tests.test_con_pool(conv2d_maxpool)"
   ]
  },
  {
   "cell_type": "markdown",
   "metadata": {},
   "source": [
    "### Flatten Layer\n",
    "Implement the `flatten` function to change the dimension of `x_tensor` from a 4-D tensor to a 2-D tensor.  The output should be the shape (*Batch Size*, *Flattened Image Size*). Shortcut option: you can use classes from the [TensorFlow Layers](https://www.tensorflow.org/api_docs/python/tf/layers) or [TensorFlow Layers (contrib)](https://www.tensorflow.org/api_guides/python/contrib.layers) packages for this layer. For more of a challenge, only use other TensorFlow packages."
   ]
  },
  {
   "cell_type": "code",
   "execution_count": 13,
   "metadata": {
    "collapsed": false
   },
   "outputs": [
    {
     "name": "stdout",
     "output_type": "stream",
     "text": [
      "Tests Passed\n"
     ]
    }
   ],
   "source": [
    "def flatten(x_tensor):\n",
    "    \"\"\"\n",
    "    Flatten x_tensor to (Batch Size, Flattened Image Size)\n",
    "    : x_tensor: A tensor of size (Batch Size, ...), where ... are the image dimensions.\n",
    "    : return: A tensor of size (Batch Size, Flattened Image Size).\n",
    "    \"\"\"\n",
    "    # TODO: Implement Function\n",
    "    old_shape = x_tensor.get_shape()\n",
    "    flattened_image_size = np.prod([x for x in old_shape[1:]])\n",
    "    new_shape = [-1, flattened_image_size.value]\n",
    "    return tf.reshape(x_tensor, new_shape)\n",
    "\n",
    "\n",
    "\"\"\"\n",
    "DON'T MODIFY ANYTHING IN THIS CELL THAT IS BELOW THIS LINE\n",
    "\"\"\"\n",
    "tests.test_flatten(flatten)"
   ]
  },
  {
   "cell_type": "markdown",
   "metadata": {},
   "source": [
    "### Fully-Connected Layer\n",
    "Implement the `fully_conn` function to apply a fully connected layer to `x_tensor` with the shape (*Batch Size*, *num_outputs*). Shortcut option: you can use classes from the [TensorFlow Layers](https://www.tensorflow.org/api_docs/python/tf/layers) or [TensorFlow Layers (contrib)](https://www.tensorflow.org/api_guides/python/contrib.layers) packages for this layer. For more of a challenge, only use other TensorFlow packages."
   ]
  },
  {
   "cell_type": "code",
   "execution_count": 19,
   "metadata": {
    "collapsed": false
   },
   "outputs": [
    {
     "name": "stdout",
     "output_type": "stream",
     "text": [
      "Tests Passed\n"
     ]
    }
   ],
   "source": [
    "def fully_conn(x_tensor, num_outputs):\n",
    "    \"\"\"\n",
    "    Apply a fully connected layer to x_tensor using weight and bias\n",
    "    : x_tensor: A 2-D tensor where the first dimension is batch size.\n",
    "    : num_outputs: The number of output that the new tensor should be.\n",
    "    : return: A 2-D tensor where the second dimension is num_outputs.\n",
    "    \"\"\"\n",
    "    # TODO: Implement Function\n",
    "    feature_count = x_tensor.get_shape()[1].value\n",
    "    weight = tf.Variable(tf.truncated_normal([feature_count, num_outputs], \n",
    "                                             mean = 0.0, stddev = 0.1, seed=42 ))\n",
    "    bias = tf.Variable(tf.zeros([num_outputs]))\n",
    "    logits = tf.matmul(x_tensor, weight) + bias\n",
    "    logits = tf.nn.relu (logits)\n",
    "    return logits\n",
    "\n",
    "\n",
    "\"\"\"\n",
    "DON'T MODIFY ANYTHING IN THIS CELL THAT IS BELOW THIS LINE\n",
    "\"\"\"\n",
    "tests.test_fully_conn(fully_conn)"
   ]
  },
  {
   "cell_type": "markdown",
   "metadata": {},
   "source": [
    "### Output Layer\n",
    "Implement the `output` function to apply a fully connected layer to `x_tensor` with the shape (*Batch Size*, *num_outputs*). Shortcut option: you can use classes from the [TensorFlow Layers](https://www.tensorflow.org/api_docs/python/tf/layers) or [TensorFlow Layers (contrib)](https://www.tensorflow.org/api_guides/python/contrib.layers) packages for this layer. For more of a challenge, only use other TensorFlow packages.\n",
    "\n",
    "**Note:** Activation, softmax, or cross entropy should **not** be applied to this."
   ]
  },
  {
   "cell_type": "code",
   "execution_count": 20,
   "metadata": {
    "collapsed": false
   },
   "outputs": [
    {
     "name": "stdout",
     "output_type": "stream",
     "text": [
      "Tests Passed\n"
     ]
    }
   ],
   "source": [
    "def output(x_tensor, num_outputs):\n",
    "    \"\"\"\n",
    "    Apply a output layer to x_tensor using weight and bias\n",
    "    : x_tensor: A 2-D tensor where the first dimension is batch size.\n",
    "    : num_outputs: The number of output that the new tensor should be.\n",
    "    : return: A 2-D tensor where the second dimension is num_outputs.\n",
    "    \"\"\"\n",
    "    # TODO: Implement Function\n",
    "    tensor_dims = x_tensor.get_shape().as_list()\n",
    "    out_weights = tf.Variable(tf.truncated_normal([tensor_dims[1], num_outputs]))\n",
    "    out_biases = tf.Variable(tf.truncated_normal([num_outputs]))\n",
    "    out = tf.add(tf.matmul(x_tensor, out_weights), out_biases)\n",
    "    return out\n",
    "\n",
    "\n",
    "\"\"\"\n",
    "DON'T MODIFY ANYTHING IN THIS CELL THAT IS BELOW THIS LINE\n",
    "\"\"\"\n",
    "tests.test_output(output)"
   ]
  },
  {
   "cell_type": "markdown",
   "metadata": {},
   "source": [
    "### Create Convolutional Model\n",
    "Implement the function `conv_net` to create a convolutional neural network model. The function takes in a batch of images, `x`, and outputs logits.  Use the layers you created above to create this model:\n",
    "\n",
    "* Apply 1, 2, or 3 Convolution and Max Pool layers\n",
    "* Apply a Flatten Layer\n",
    "* Apply 1, 2, or 3 Fully Connected Layers\n",
    "* Apply an Output Layer\n",
    "* Return the output\n",
    "* Apply [TensorFlow's Dropout](https://www.tensorflow.org/api_docs/python/tf/nn/dropout) to one or more layers in the model using `keep_prob`. "
   ]
  },
  {
   "cell_type": "code",
   "execution_count": 21,
   "metadata": {
    "collapsed": false
   },
   "outputs": [
    {
     "name": "stdout",
     "output_type": "stream",
     "text": [
      "Neural Network Built!\n"
     ]
    }
   ],
   "source": [
    "def conv_net(x, keep_prob):\n",
    "    \"\"\"\n",
    "    Create a convolutional neural network model\n",
    "    : x: Placeholder tensor that holds image data.\n",
    "    : keep_prob: Placeholder tensor that hold dropout keep probability.\n",
    "    : return: Tensor that represents logits\n",
    "    \"\"\"\n",
    "    # TODO: Apply 1, 2, or 3 Convolution and Max Pool layers\n",
    "    #    Play around with different number of outputs, kernel size and stride\n",
    "    # Function Definition from Above:\n",
    "    #    conv2d_maxpool(x_tensor, conv_num_outputs, conv_ksize, conv_strides, pool_ksize, pool_strides)\n",
    "    conv_ksize =(2,2)\n",
    "    conv_strides =(1,1)\n",
    "    pool_ksize =(2,2)\n",
    "    pool_strides = (1,1)\n",
    "    c11_conv_num_outputs =16\n",
    "    conv1 = conv2d_maxpool(x, c11_conv_num_outputs, conv_ksize, conv_strides, pool_ksize, pool_strides)\n",
    "    c12_conv_num_outputs =24\n",
    "    conv2 = conv2d_maxpool(conv1, c12_conv_num_outputs, conv_ksize, conv_strides, pool_ksize, pool_strides)\n",
    "    \n",
    "\n",
    "    # TODO: Apply a Flatten Layer\n",
    "    # Function Definition from Above:\n",
    "    #   flatten(x_tensor)\n",
    "    conv_flattened = flatten(conv2)\n",
    "    \n",
    "\n",
    "    # TODO: Apply 1, 2, or 3 Fully Connected Layers\n",
    "    #    Play around with different number of outputs\n",
    "    # Function Definition from Above:\n",
    "    #   fully_conn(x_tensor, num_outputs)\n",
    "    f11_num_outputs = 1024\n",
    "    fc1 = fully_conn(conv_flattened, f11_num_outputs)\n",
    "    fc = tf.nn.dropout(fc1, keep_prob)\n",
    "    \n",
    "    # TODO: Apply an Output Layer\n",
    "    #    Set this to the number of classes\n",
    "    # Function Definition from Above:\n",
    "    #   output(x_tensor, num_outputs)\n",
    "    num_classes = 10\n",
    "    out_layer = output (fc,num_classes)\n",
    "    \n",
    "    # TODO: return output\n",
    "    return out_layer\n",
    "\n",
    "\n",
    "\"\"\"\n",
    "DON'T MODIFY ANYTHING IN THIS CELL THAT IS BELOW THIS LINE\n",
    "\"\"\"\n",
    "\n",
    "##############################\n",
    "## Build the Neural Network ##\n",
    "##############################\n",
    "\n",
    "# Remove previous weights, bias, inputs, etc..\n",
    "tf.reset_default_graph()\n",
    "\n",
    "# Inputs\n",
    "x = neural_net_image_input((32, 32, 3))\n",
    "y = neural_net_label_input(10)\n",
    "keep_prob = neural_net_keep_prob_input()\n",
    "\n",
    "# Model\n",
    "logits = conv_net(x, keep_prob)\n",
    "\n",
    "# Name logits Tensor, so that is can be loaded from disk after training\n",
    "logits = tf.identity(logits, name='logits')\n",
    "\n",
    "# Loss and Optimizer\n",
    "cost = tf.reduce_mean(tf.nn.softmax_cross_entropy_with_logits(logits=logits, labels=y))\n",
    "optimizer = tf.train.AdamOptimizer().minimize(cost)\n",
    "\n",
    "# Accuracy\n",
    "correct_pred = tf.equal(tf.argmax(logits, 1), tf.argmax(y, 1))\n",
    "accuracy = tf.reduce_mean(tf.cast(correct_pred, tf.float32), name='accuracy')\n",
    "\n",
    "tests.test_conv_net(conv_net)"
   ]
  },
  {
   "cell_type": "markdown",
   "metadata": {},
   "source": [
    "## Train the Neural Network\n",
    "### Single Optimization\n",
    "Implement the function `train_neural_network` to do a single optimization.  The optimization should use `optimizer` to optimize in `session` with a `feed_dict` of the following:\n",
    "* `x` for image input\n",
    "* `y` for labels\n",
    "* `keep_prob` for keep probability for dropout\n",
    "\n",
    "This function will be called for each batch, so `tf.global_variables_initializer()` has already been called.\n",
    "\n",
    "Note: Nothing needs to be returned. This function is only optimizing the neural network."
   ]
  },
  {
   "cell_type": "code",
   "execution_count": 22,
   "metadata": {
    "collapsed": false
   },
   "outputs": [
    {
     "name": "stdout",
     "output_type": "stream",
     "text": [
      "Tests Passed\n"
     ]
    }
   ],
   "source": [
    "def train_neural_network(session, optimizer, keep_probability, feature_batch, label_batch):\n",
    "    \"\"\"\n",
    "    Optimize the session on a batch of images and labels\n",
    "    : session: Current TensorFlow session\n",
    "    : optimizer: TensorFlow optimizer function\n",
    "    : keep_probability: keep probability\n",
    "    : feature_batch: Batch of Numpy image data\n",
    "    : label_batch: Batch of Numpy label data\n",
    "    \"\"\"\n",
    "    # TODO: Implement Function\n",
    "    session.run(optimizer, feed_dict={x: feature_batch, y: label_batch, keep_prob: keep_probability})\n",
    "    pass\n",
    "\n",
    "\n",
    "\"\"\"\n",
    "DON'T MODIFY ANYTHING IN THIS CELL THAT IS BELOW THIS LINE\n",
    "\"\"\"\n",
    "tests.test_train_nn(train_neural_network)"
   ]
  },
  {
   "cell_type": "markdown",
   "metadata": {},
   "source": [
    "### Show Stats\n",
    "Implement the function `print_stats` to print loss and validation accuracy.  Use the global variables `valid_features` and `valid_labels` to calculate validation accuracy.  Use a keep probability of `1.0` to calculate the loss and validation accuracy."
   ]
  },
  {
   "cell_type": "code",
   "execution_count": 23,
   "metadata": {
    "collapsed": false
   },
   "outputs": [],
   "source": [
    "def print_stats(session, feature_batch, label_batch, cost, accuracy):\n",
    "    \"\"\"\n",
    "    Print information about loss and validation accuracy\n",
    "    : session: Current TensorFlow session\n",
    "    : feature_batch: Batch of Numpy image data\n",
    "    : label_batch: Batch of Numpy label data\n",
    "    : cost: TensorFlow cost function\n",
    "    : accuracy: TensorFlow accuracy function\n",
    "    \"\"\"\n",
    "    # TODO: Implement Function\n",
    "    loss = session.run(cost, feed_dict={\n",
    "        x:feature_batch,\n",
    "        y:label_batch,\n",
    "        keep_prob:1.0\n",
    "    })\n",
    "    \n",
    "    train_accuracy = session.run(accuracy, feed_dict={\n",
    "        x:feature_batch,\n",
    "        y:label_batch,\n",
    "        keep_prob:1.0\n",
    "    })\n",
    "    \n",
    "    validate_accuracy = session.run(accuracy, feed_dict={\n",
    "        x:valid_features,\n",
    "        y:valid_labels,\n",
    "        keep_prob:1.0\n",
    "    })\n",
    "    print(\"loss: {0:.6f} validate_accuracy: {1:.6f} train_accuracy: {2:.6f}\".format(loss,validate_accuracy,train_accuracy))\n",
    "    pass"
   ]
  },
  {
   "cell_type": "markdown",
   "metadata": {},
   "source": [
    "### Hyperparameters\n",
    "Tune the following parameters:\n",
    "* Set `epochs` to the number of iterations until the network stops learning or start overfitting\n",
    "* Set `batch_size` to the highest number that your machine has memory for.  Most people set them to common sizes of memory:\n",
    " * 64\n",
    " * 128\n",
    " * 256\n",
    " * ...\n",
    "* Set `keep_probability` to the probability of keeping a node using dropout"
   ]
  },
  {
   "cell_type": "code",
   "execution_count": 24,
   "metadata": {
    "collapsed": true
   },
   "outputs": [],
   "source": [
    "# TODO: Tune Parameters\n",
    "epochs = 20\n",
    "batch_size = 512\n",
    "keep_probability = 0.73"
   ]
  },
  {
   "cell_type": "markdown",
   "metadata": {},
   "source": [
    "### Train on a Single CIFAR-10 Batch\n",
    "Instead of training the neural network on all the CIFAR-10 batches of data, let's use a single batch. This should save time while you iterate on the model to get a better accuracy.  Once the final validation accuracy is 50% or greater, run the model on all the data in the next section."
   ]
  },
  {
   "cell_type": "code",
   "execution_count": 25,
   "metadata": {
    "collapsed": false
   },
   "outputs": [
    {
     "name": "stdout",
     "output_type": "stream",
     "text": [
      "Checking the Training on a Single Batch...\n",
      "Epoch  1, CIFAR-10 Batch 1:  loss: 3.277761 validate_accuracy: 0.180600 train_accuracy: 0.179054\n",
      "Epoch  2, CIFAR-10 Batch 1:  loss: 1.976327 validate_accuracy: 0.272600 train_accuracy: 0.263514\n",
      "Epoch  3, CIFAR-10 Batch 1:  loss: 1.592098 validate_accuracy: 0.373200 train_accuracy: 0.452703\n",
      "Epoch  4, CIFAR-10 Batch 1:  loss: 1.305685 validate_accuracy: 0.409600 train_accuracy: 0.560811\n",
      "Epoch  5, CIFAR-10 Batch 1:  loss: 1.031220 validate_accuracy: 0.435600 train_accuracy: 0.655405\n",
      "Epoch  6, CIFAR-10 Batch 1:  loss: 0.801164 validate_accuracy: 0.443600 train_accuracy: 0.766892\n",
      "Epoch  7, CIFAR-10 Batch 1:  loss: 0.645064 validate_accuracy: 0.453000 train_accuracy: 0.847973\n",
      "Epoch  8, CIFAR-10 Batch 1:  loss: 0.530944 validate_accuracy: 0.464600 train_accuracy: 0.878378\n",
      "Epoch  9, CIFAR-10 Batch 1:  loss: 0.441701 validate_accuracy: 0.464800 train_accuracy: 0.905405\n",
      "Epoch 10, CIFAR-10 Batch 1:  loss: 0.352333 validate_accuracy: 0.474200 train_accuracy: 0.932432\n",
      "Epoch 11, CIFAR-10 Batch 1:  loss: 0.296540 validate_accuracy: 0.477600 train_accuracy: 0.945946\n",
      "Epoch 12, CIFAR-10 Batch 1:  loss: 0.236636 validate_accuracy: 0.489600 train_accuracy: 0.949324\n",
      "Epoch 13, CIFAR-10 Batch 1:  loss: 0.201124 validate_accuracy: 0.483800 train_accuracy: 0.969595\n",
      "Epoch 14, CIFAR-10 Batch 1:  loss: 0.161778 validate_accuracy: 0.471000 train_accuracy: 0.983108\n",
      "Epoch 15, CIFAR-10 Batch 1:  loss: 0.137508 validate_accuracy: 0.484400 train_accuracy: 0.986486\n",
      "Epoch 16, CIFAR-10 Batch 1:  loss: 0.138436 validate_accuracy: 0.460000 train_accuracy: 0.976351\n",
      "Epoch 17, CIFAR-10 Batch 1:  loss: 0.090487 validate_accuracy: 0.490400 train_accuracy: 0.986486\n",
      "Epoch 18, CIFAR-10 Batch 1:  loss: 0.052517 validate_accuracy: 0.501800 train_accuracy: 1.000000\n",
      "Epoch 19, CIFAR-10 Batch 1:  loss: 0.061658 validate_accuracy: 0.489400 train_accuracy: 0.993243\n",
      "Epoch 20, CIFAR-10 Batch 1:  loss: 0.035319 validate_accuracy: 0.505200 train_accuracy: 0.996622\n"
     ]
    }
   ],
   "source": [
    "\"\"\"\n",
    "DON'T MODIFY ANYTHING IN THIS CELL\n",
    "\"\"\"\n",
    "print('Checking the Training on a Single Batch...')\n",
    "with tf.Session() as sess:\n",
    "    # Initializing the variables\n",
    "    sess.run(tf.global_variables_initializer())\n",
    "    \n",
    "    # Training cycle\n",
    "    for epoch in range(epochs):\n",
    "        batch_i = 1\n",
    "        for batch_features, batch_labels in helper.load_preprocess_training_batch(batch_i, batch_size):\n",
    "            train_neural_network(sess, optimizer, keep_probability, batch_features, batch_labels)\n",
    "        print('Epoch {:>2}, CIFAR-10 Batch {}:  '.format(epoch + 1, batch_i), end='')\n",
    "        print_stats(sess, batch_features, batch_labels, cost, accuracy)"
   ]
  },
  {
   "cell_type": "markdown",
   "metadata": {},
   "source": [
    "### Fully Train the Model\n",
    "Now that you got a good accuracy with a single CIFAR-10 batch, try it with all five batches."
   ]
  },
  {
   "cell_type": "code",
   "execution_count": 26,
   "metadata": {
    "collapsed": false,
    "scrolled": false
   },
   "outputs": [
    {
     "name": "stdout",
     "output_type": "stream",
     "text": [
      "Training...\n",
      "Epoch  1, CIFAR-10 Batch 1:  loss: 3.512057 validate_accuracy: 0.181600 train_accuracy: 0.185811\n",
      "Epoch  1, CIFAR-10 Batch 2:  loss: 1.990260 validate_accuracy: 0.261800 train_accuracy: 0.300676\n",
      "Epoch  1, CIFAR-10 Batch 3:  loss: 1.735600 validate_accuracy: 0.360000 train_accuracy: 0.418919\n",
      "Epoch  1, CIFAR-10 Batch 4:  loss: 1.558273 validate_accuracy: 0.400800 train_accuracy: 0.418919\n",
      "Epoch  1, CIFAR-10 Batch 5:  loss: 1.578425 validate_accuracy: 0.445000 train_accuracy: 0.462838\n",
      "Epoch  2, CIFAR-10 Batch 1:  loss: 1.605745 validate_accuracy: 0.452400 train_accuracy: 0.435811\n",
      "Epoch  2, CIFAR-10 Batch 2:  loss: 1.342601 validate_accuracy: 0.467000 train_accuracy: 0.577703\n",
      "Epoch  2, CIFAR-10 Batch 3:  loss: 1.328911 validate_accuracy: 0.485000 train_accuracy: 0.557432\n",
      "Epoch  2, CIFAR-10 Batch 4:  loss: 1.173871 validate_accuracy: 0.497600 train_accuracy: 0.584459\n",
      "Epoch  2, CIFAR-10 Batch 5:  loss: 1.146637 validate_accuracy: 0.512200 train_accuracy: 0.604730\n",
      "Epoch  3, CIFAR-10 Batch 1:  loss: 1.263280 validate_accuracy: 0.514600 train_accuracy: 0.554054\n",
      "Epoch  3, CIFAR-10 Batch 2:  loss: 1.089873 validate_accuracy: 0.511400 train_accuracy: 0.679054\n",
      "Epoch  3, CIFAR-10 Batch 3:  loss: 1.044403 validate_accuracy: 0.536600 train_accuracy: 0.658784\n",
      "Epoch  3, CIFAR-10 Batch 4:  loss: 0.934713 validate_accuracy: 0.553600 train_accuracy: 0.682432\n",
      "Epoch  3, CIFAR-10 Batch 5:  loss: 0.885035 validate_accuracy: 0.544200 train_accuracy: 0.719595\n",
      "Epoch  4, CIFAR-10 Batch 1:  loss: 0.973608 validate_accuracy: 0.551400 train_accuracy: 0.655405\n",
      "Epoch  4, CIFAR-10 Batch 2:  loss: 0.889414 validate_accuracy: 0.539400 train_accuracy: 0.756757\n",
      "Epoch  4, CIFAR-10 Batch 3:  loss: 0.790553 validate_accuracy: 0.566000 train_accuracy: 0.729730\n",
      "Epoch  4, CIFAR-10 Batch 4:  loss: 0.737825 validate_accuracy: 0.567400 train_accuracy: 0.773649\n",
      "Epoch  4, CIFAR-10 Batch 5:  loss: 0.677353 validate_accuracy: 0.565200 train_accuracy: 0.793919\n",
      "Epoch  5, CIFAR-10 Batch 1:  loss: 0.728695 validate_accuracy: 0.574200 train_accuracy: 0.756757\n",
      "Epoch  5, CIFAR-10 Batch 2:  loss: 0.706549 validate_accuracy: 0.562400 train_accuracy: 0.814189\n",
      "Epoch  5, CIFAR-10 Batch 3:  loss: 0.615171 validate_accuracy: 0.572200 train_accuracy: 0.814189\n",
      "Epoch  5, CIFAR-10 Batch 4:  loss: 0.565414 validate_accuracy: 0.581800 train_accuracy: 0.831081\n",
      "Epoch  5, CIFAR-10 Batch 5:  loss: 0.529629 validate_accuracy: 0.575400 train_accuracy: 0.861486\n",
      "Epoch  6, CIFAR-10 Batch 1:  loss: 0.563714 validate_accuracy: 0.567800 train_accuracy: 0.847973\n",
      "Epoch  6, CIFAR-10 Batch 2:  loss: 0.539599 validate_accuracy: 0.568600 train_accuracy: 0.878378\n",
      "Epoch  6, CIFAR-10 Batch 3:  loss: 0.473928 validate_accuracy: 0.577200 train_accuracy: 0.875000\n",
      "Epoch  6, CIFAR-10 Batch 4:  loss: 0.434129 validate_accuracy: 0.578800 train_accuracy: 0.868243\n",
      "Epoch  6, CIFAR-10 Batch 5:  loss: 0.391941 validate_accuracy: 0.591800 train_accuracy: 0.888514\n",
      "Epoch  7, CIFAR-10 Batch 1:  loss: 0.419499 validate_accuracy: 0.585200 train_accuracy: 0.905405\n",
      "Epoch  7, CIFAR-10 Batch 2:  loss: 0.411903 validate_accuracy: 0.578200 train_accuracy: 0.898649\n",
      "Epoch  7, CIFAR-10 Batch 3:  loss: 0.390068 validate_accuracy: 0.575600 train_accuracy: 0.895270\n",
      "Epoch  7, CIFAR-10 Batch 4:  loss: 0.375258 validate_accuracy: 0.578200 train_accuracy: 0.918919\n",
      "Epoch  7, CIFAR-10 Batch 5:  loss: 0.333315 validate_accuracy: 0.593400 train_accuracy: 0.932432\n",
      "Epoch  8, CIFAR-10 Batch 1:  loss: 0.359390 validate_accuracy: 0.576600 train_accuracy: 0.918919\n",
      "Epoch  8, CIFAR-10 Batch 2:  loss: 0.356296 validate_accuracy: 0.580000 train_accuracy: 0.898649\n",
      "Epoch  8, CIFAR-10 Batch 3:  loss: 0.282445 validate_accuracy: 0.589200 train_accuracy: 0.939189\n",
      "Epoch  8, CIFAR-10 Batch 4:  loss: 0.270312 validate_accuracy: 0.593600 train_accuracy: 0.949324\n",
      "Epoch  8, CIFAR-10 Batch 5:  loss: 0.284476 validate_accuracy: 0.595600 train_accuracy: 0.942568\n",
      "Epoch  9, CIFAR-10 Batch 1:  loss: 0.278278 validate_accuracy: 0.584200 train_accuracy: 0.942568\n",
      "Epoch  9, CIFAR-10 Batch 2:  loss: 0.279021 validate_accuracy: 0.594400 train_accuracy: 0.945946\n",
      "Epoch  9, CIFAR-10 Batch 3:  loss: 0.230362 validate_accuracy: 0.612400 train_accuracy: 0.949324\n",
      "Epoch  9, CIFAR-10 Batch 4:  loss: 0.238647 validate_accuracy: 0.593800 train_accuracy: 0.956081\n",
      "Epoch  9, CIFAR-10 Batch 5:  loss: 0.203951 validate_accuracy: 0.606600 train_accuracy: 0.976351\n",
      "Epoch 10, CIFAR-10 Batch 1:  loss: 0.212591 validate_accuracy: 0.608800 train_accuracy: 0.956081\n",
      "Epoch 10, CIFAR-10 Batch 2:  loss: 0.186918 validate_accuracy: 0.613400 train_accuracy: 0.969595\n",
      "Epoch 10, CIFAR-10 Batch 3:  loss: 0.211011 validate_accuracy: 0.600400 train_accuracy: 0.962838\n",
      "Epoch 10, CIFAR-10 Batch 4:  loss: 0.199155 validate_accuracy: 0.602400 train_accuracy: 0.969595\n",
      "Epoch 10, CIFAR-10 Batch 5:  loss: 0.152914 validate_accuracy: 0.603600 train_accuracy: 0.986486\n",
      "Epoch 11, CIFAR-10 Batch 1:  loss: 0.170245 validate_accuracy: 0.605000 train_accuracy: 0.969595\n",
      "Epoch 11, CIFAR-10 Batch 2:  loss: 0.147845 validate_accuracy: 0.614200 train_accuracy: 0.969595\n",
      "Epoch 11, CIFAR-10 Batch 3:  loss: 0.195199 validate_accuracy: 0.593400 train_accuracy: 0.949324\n",
      "Epoch 11, CIFAR-10 Batch 4:  loss: 0.155728 validate_accuracy: 0.603000 train_accuracy: 0.976351\n",
      "Epoch 11, CIFAR-10 Batch 5:  loss: 0.134500 validate_accuracy: 0.612000 train_accuracy: 0.986486\n",
      "Epoch 12, CIFAR-10 Batch 1:  loss: 0.115116 validate_accuracy: 0.616800 train_accuracy: 0.986486\n",
      "Epoch 12, CIFAR-10 Batch 2:  loss: 0.109143 validate_accuracy: 0.620200 train_accuracy: 0.979730\n",
      "Epoch 12, CIFAR-10 Batch 3:  loss: 0.135091 validate_accuracy: 0.611200 train_accuracy: 0.972973\n",
      "Epoch 12, CIFAR-10 Batch 4:  loss: 0.136537 validate_accuracy: 0.591800 train_accuracy: 0.972973\n",
      "Epoch 12, CIFAR-10 Batch 5:  loss: 0.091683 validate_accuracy: 0.620400 train_accuracy: 0.993243\n",
      "Epoch 13, CIFAR-10 Batch 1:  loss: 0.118240 validate_accuracy: 0.604400 train_accuracy: 0.976351\n",
      "Epoch 13, CIFAR-10 Batch 2:  loss: 0.086864 validate_accuracy: 0.611200 train_accuracy: 0.989865\n",
      "Epoch 13, CIFAR-10 Batch 3:  loss: 0.100953 validate_accuracy: 0.619600 train_accuracy: 0.979730\n",
      "Epoch 13, CIFAR-10 Batch 4:  loss: 0.091724 validate_accuracy: 0.588600 train_accuracy: 0.989865\n",
      "Epoch 13, CIFAR-10 Batch 5:  loss: 0.078910 validate_accuracy: 0.605800 train_accuracy: 0.996622\n",
      "Epoch 14, CIFAR-10 Batch 1:  loss: 0.111630 validate_accuracy: 0.597000 train_accuracy: 0.989865\n",
      "Epoch 14, CIFAR-10 Batch 2:  loss: 0.069209 validate_accuracy: 0.611600 train_accuracy: 0.989865\n",
      "Epoch 14, CIFAR-10 Batch 3:  loss: 0.082236 validate_accuracy: 0.611600 train_accuracy: 0.989865\n",
      "Epoch 14, CIFAR-10 Batch 4:  loss: 0.059845 validate_accuracy: 0.605800 train_accuracy: 0.996622\n",
      "Epoch 14, CIFAR-10 Batch 5:  loss: 0.061597 validate_accuracy: 0.611600 train_accuracy: 0.993243\n",
      "Epoch 15, CIFAR-10 Batch 1:  loss: 0.083411 validate_accuracy: 0.599400 train_accuracy: 0.989865\n",
      "Epoch 15, CIFAR-10 Batch 2:  loss: 0.056534 validate_accuracy: 0.615000 train_accuracy: 0.993243\n",
      "Epoch 15, CIFAR-10 Batch 3:  loss: 0.061547 validate_accuracy: 0.606000 train_accuracy: 1.000000\n",
      "Epoch 15, CIFAR-10 Batch 4:  loss: 0.053362 validate_accuracy: 0.599600 train_accuracy: 0.993243\n",
      "Epoch 15, CIFAR-10 Batch 5:  loss: 0.056287 validate_accuracy: 0.607000 train_accuracy: 0.996622\n",
      "Epoch 16, CIFAR-10 Batch 1:  loss: 0.056427 validate_accuracy: 0.595000 train_accuracy: 0.996622\n",
      "Epoch 16, CIFAR-10 Batch 2:  loss: 0.040749 validate_accuracy: 0.620000 train_accuracy: 1.000000\n",
      "Epoch 16, CIFAR-10 Batch 3:  loss: 0.057282 validate_accuracy: 0.600400 train_accuracy: 0.993243\n",
      "Epoch 16, CIFAR-10 Batch 4:  loss: 0.032072 validate_accuracy: 0.610800 train_accuracy: 1.000000\n",
      "Epoch 16, CIFAR-10 Batch 5:  loss: 0.039934 validate_accuracy: 0.610800 train_accuracy: 0.996622\n",
      "Epoch 17, CIFAR-10 Batch 1:  loss: 0.035684 validate_accuracy: 0.601200 train_accuracy: 1.000000\n",
      "Epoch 17, CIFAR-10 Batch 2:  loss: 0.031918 validate_accuracy: 0.623800 train_accuracy: 1.000000\n",
      "Epoch 17, CIFAR-10 Batch 3:  loss: 0.038536 validate_accuracy: 0.606800 train_accuracy: 0.996622\n",
      "Epoch 17, CIFAR-10 Batch 4:  loss: 0.030614 validate_accuracy: 0.606800 train_accuracy: 1.000000\n",
      "Epoch 17, CIFAR-10 Batch 5:  loss: 0.032352 validate_accuracy: 0.598400 train_accuracy: 1.000000\n",
      "Epoch 18, CIFAR-10 Batch 1:  loss: 0.039125 validate_accuracy: 0.615000 train_accuracy: 0.993243\n",
      "Epoch 18, CIFAR-10 Batch 2:  loss: 0.028275 validate_accuracy: 0.620200 train_accuracy: 0.996622\n",
      "Epoch 18, CIFAR-10 Batch 3:  loss: 0.026505 validate_accuracy: 0.612400 train_accuracy: 1.000000\n",
      "Epoch 18, CIFAR-10 Batch 4:  loss: 0.022174 validate_accuracy: 0.610400 train_accuracy: 1.000000\n",
      "Epoch 18, CIFAR-10 Batch 5:  loss: 0.026283 validate_accuracy: 0.603600 train_accuracy: 1.000000\n",
      "Epoch 19, CIFAR-10 Batch 1:  loss: 0.035315 validate_accuracy: 0.604600 train_accuracy: 0.993243\n",
      "Epoch 19, CIFAR-10 Batch 2:  loss: 0.030300 validate_accuracy: 0.610200 train_accuracy: 0.996622\n",
      "Epoch 19, CIFAR-10 Batch 3:  loss: 0.022999 validate_accuracy: 0.612400 train_accuracy: 1.000000\n",
      "Epoch 19, CIFAR-10 Batch 4:  loss: 0.024868 validate_accuracy: 0.620600 train_accuracy: 0.996622\n",
      "Epoch 19, CIFAR-10 Batch 5:  loss: 0.021561 validate_accuracy: 0.614600 train_accuracy: 1.000000\n",
      "Epoch 20, CIFAR-10 Batch 1:  loss: 0.027851 validate_accuracy: 0.601800 train_accuracy: 1.000000\n",
      "Epoch 20, CIFAR-10 Batch 2:  loss: 0.025643 validate_accuracy: 0.606000 train_accuracy: 1.000000\n",
      "Epoch 20, CIFAR-10 Batch 3:  loss: 0.028142 validate_accuracy: 0.611400 train_accuracy: 0.996622\n",
      "Epoch 20, CIFAR-10 Batch 4:  loss: 0.013792 validate_accuracy: 0.616800 train_accuracy: 1.000000\n",
      "Epoch 20, CIFAR-10 Batch 5:  loss: 0.015906 validate_accuracy: 0.627200 train_accuracy: 1.000000\n"
     ]
    }
   ],
   "source": [
    "\"\"\"\n",
    "DON'T MODIFY ANYTHING IN THIS CELL\n",
    "\"\"\"\n",
    "save_model_path = './image_classification'\n",
    "\n",
    "print('Training...')\n",
    "with tf.Session() as sess:\n",
    "    # Initializing the variables\n",
    "    sess.run(tf.global_variables_initializer())\n",
    "    \n",
    "    # Training cycle\n",
    "    for epoch in range(epochs):\n",
    "        # Loop over all batches\n",
    "        n_batches = 5\n",
    "        for batch_i in range(1, n_batches + 1):\n",
    "            for batch_features, batch_labels in helper.load_preprocess_training_batch(batch_i, batch_size):\n",
    "                train_neural_network(sess, optimizer, keep_probability, batch_features, batch_labels)\n",
    "            print('Epoch {:>2}, CIFAR-10 Batch {}:  '.format(epoch + 1, batch_i), end='')\n",
    "            print_stats(sess, batch_features, batch_labels, cost, accuracy)\n",
    "            \n",
    "    # Save Model\n",
    "    saver = tf.train.Saver()\n",
    "    save_path = saver.save(sess, save_model_path)"
   ]
  },
  {
   "cell_type": "markdown",
   "metadata": {},
   "source": [
    "# Checkpoint\n",
    "The model has been saved to disk.\n",
    "## Test Model\n",
    "Test your model against the test dataset.  This will be your final accuracy. You should have an accuracy greater than 50%. If you don't, keep tweaking the model architecture and parameters."
   ]
  },
  {
   "cell_type": "code",
   "execution_count": 27,
   "metadata": {
    "collapsed": false
   },
   "outputs": [
    {
     "name": "stdout",
     "output_type": "stream",
     "text": [
      "Testing Accuracy: 0.6231502771377564\n",
      "\n"
     ]
    },
    {
     "data": {
      "image/png": "[encoded data removed]",
      "text/plain": [
       "<matplotlib.figure.Figure at 0x1f974f87710>"
      ]
     },
     "metadata": {
      "image/png": {
       "height": 319,
       "width": 355
      }
     },
     "output_type": "display_data"
    }
   ],
   "source": [
    "\"\"\"\n",
    "DON'T MODIFY ANYTHING IN THIS CELL\n",
    "\"\"\"\n",
    "%matplotlib inline\n",
    "%config InlineBackend.figure_format = 'retina'\n",
    "\n",
    "import tensorflow as tf\n",
    "import pickle\n",
    "import helper\n",
    "import random\n",
    "\n",
    "# Set batch size if not already set\n",
    "try:\n",
    "    if batch_size:\n",
    "        pass\n",
    "except NameError:\n",
    "    batch_size = 64\n",
    "\n",
    "save_model_path = './image_classification'\n",
    "n_samples = 4\n",
    "top_n_predictions = 3\n",
    "\n",
    "def test_model():\n",
    "    \"\"\"\n",
    "    Test the saved model against the test dataset\n",
    "    \"\"\"\n",
    "\n",
    "    test_features, test_labels = pickle.load(open('preprocess_training.p', mode='rb'))\n",
    "    loaded_graph = tf.Graph()\n",
    "\n",
    "    with tf.Session(graph=loaded_graph) as sess:\n",
    "        # Load model\n",
    "        loader = tf.train.import_meta_graph(save_model_path + '.meta')\n",
    "        loader.restore(sess, save_model_path)\n",
    "\n",
    "        # Get Tensors from loaded model\n",
    "        loaded_x = loaded_graph.get_tensor_by_name('x:0')\n",
    "        loaded_y = loaded_graph.get_tensor_by_name('y:0')\n",
    "        loaded_keep_prob = loaded_graph.get_tensor_by_name('keep_prob:0')\n",
    "        loaded_logits = loaded_graph.get_tensor_by_name('logits:0')\n",
    "        loaded_acc = loaded_graph.get_tensor_by_name('accuracy:0')\n",
    "        \n",
    "        # Get accuracy in batches for memory limitations\n",
    "        test_batch_acc_total = 0\n",
    "        test_batch_count = 0\n",
    "        \n",
    "        for train_feature_batch, train_label_batch in helper.batch_features_labels(test_features, test_labels, batch_size):\n",
    "            test_batch_acc_total += sess.run(\n",
    "                loaded_acc,\n",
    "                feed_dict={loaded_x: train_feature_batch, loaded_y: train_label_batch, loaded_keep_prob: 1.0})\n",
    "            test_batch_count += 1\n",
    "\n",
    "        print('Testing Accuracy: {}\\n'.format(test_batch_acc_total/test_batch_count))\n",
    "\n",
    "        # Print Random Samples\n",
    "        random_test_features, random_test_labels = tuple(zip(*random.sample(list(zip(test_features, test_labels)), n_samples)))\n",
    "        random_test_predictions = sess.run(\n",
    "            tf.nn.top_k(tf.nn.softmax(loaded_logits), top_n_predictions),\n",
    "            feed_dict={loaded_x: random_test_features, loaded_y: random_test_labels, loaded_keep_prob: 1.0})\n",
    "        helper.display_image_predictions(random_test_features, random_test_labels, random_test_predictions)\n",
    "\n",
    "\n",
    "test_model()"
   ]
  },
  {
   "cell_type": "markdown",
   "metadata": {},
   "source": [
    "## Why 50-70% Accuracy?\n",
    "You might be wondering why you can't get an accuracy any higher. First things first, 50% isn't bad for a simple CNN.  Pure guessing would get you 10% accuracy. However, you might notice people are getting scores [well above 70%](http://rodrigob.github.io/are_we_there_yet/build/classification_datasets_results.html#43494641522d3130).  That's because we haven't taught you all there is to know about neural networks. We still need to cover a few more techniques.\n",
    "## Submitting This Project\n",
    "When submitting this project, make sure to run all the cells before saving the notebook.  Save the notebook file as \"dlnd_image_classification.ipynb\" and save it as a HTML file under \"File\" -> \"Download as\".  Include the \"helper.py\" and \"problem_unittests.py\" files in your submission."
   ]
  }
 ],
 "metadata": {
  "anaconda-cloud": {},
  "kernelspec": {
   "display_name": "Python 3",
   "language": "python",
   "name": "python3"
  },
  "language_info": {
   "codemirror_mode": {
    "name": "ipython",
    "version": 3
   },
   "file_extension": ".py",
   "mimetype": "text/x-python",
   "name": "python",
   "nbconvert_exporter": "python",
   "pygments_lexer": "ipython3",
   "version": "3.5.3"
  }
 },
 "nbformat": 4,
 "nbformat_minor": 0
}
